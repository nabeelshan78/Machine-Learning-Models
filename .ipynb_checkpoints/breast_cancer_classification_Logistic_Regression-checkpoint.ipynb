{
 "cells": [
  {
   "cell_type": "markdown",
   "id": "d8ed2fa6-b0f1-4544-8fc8-02f1ef2e11fb",
   "metadata": {},
   "source": [
    "# BreastCancerClassifier\n",
    "\n",
    "## Custom Logistic Regression Model-Classification  "
   ]
  },
  {
   "cell_type": "code",
   "execution_count": 302,
   "id": "98e7aecc-e13f-4a87-aa5c-a4ee5003947c",
   "metadata": {},
   "outputs": [],
   "source": [
    "import numpy as np\n",
    "import matplotlib.pyplot as plt\n",
    "from sklearn.linear_model import LogisticRegression\n",
    "from sklearn.metrics import accuracy_score"
   ]
  },
  {
   "cell_type": "code",
   "execution_count": 303,
   "id": "3b753a83-0d47-40f5-b4dc-d637906104ca",
   "metadata": {},
   "outputs": [],
   "source": [
    "class MyLogisticRegression:\n",
    "\n",
    "    def __init__(self, learning_rate = 0.001, n_iterations = 1000):\n",
    "        self.learning_rate = learning_rate\n",
    "        self.n_iterations = n_iterations\n",
    "        self.weights = None\n",
    "        self.bias = None\n",
    "\n",
    "    @staticmethod\n",
    "    def sigmoid(z):\n",
    "        return 1 / (1 + (np.exp(-z)))\n",
    "\n",
    "    def gradient(self, X, y, y_hat):\n",
    "        partial_w = np.zeros(X.shape[1])\n",
    "        partial_b = 0\n",
    "\n",
    "        partial_w = (1 / X.shape[0]) * (2 * np.dot(X.T, (y_hat - y)))\n",
    "        partial_b = (1 / X.shape[0]) * np.sum(2 * (y_hat - y))\n",
    "\n",
    "        return partial_w, partial_b\n",
    "\n",
    "    @staticmethod\n",
    "    def cross_entropy_loss(y, y_hat):\n",
    "        def safe_log(x): \n",
    "            return 0 if x == 0 else np.log(x)\n",
    "\n",
    "        # (-1 / Y.shape[0]) * Y * safe_log(Y_hat) + (1 - Y) * (1 - safe_log(1 - Y_hat)\n",
    "        total = 0\n",
    "        for curr_y, curr_y_hat in zip(y, y_hat):\n",
    "            total += curr_y * safe_log(curr_y_hat) + (1 - curr_y) * safe_log(1 - curr_y_hat)\n",
    "        return - total / len(y)\n",
    "    \n",
    "\n",
    "\n",
    "    def fit(self, X, y):\n",
    "        self.weights = np.zeros(X.shape[1])\n",
    "        self.bias = 0\n",
    "        \n",
    "        for i in range(self.n_iterations):\n",
    "            linear_pred = np.dot(X, self.weights) + self.bias\n",
    "            probabilities = sigmoid(linear_pred)\n",
    "            \n",
    "            partial_w, partial_b = self.gradient(X, y, probabilities)\n",
    "            \n",
    "            self.weights -= self.learning_rate * partial_w\n",
    "            self.bias -= self.learning_rate * partial_b\n",
    "\n",
    "            if i % 100 == 0:\n",
    "                preds = self.predict(X, 0.5)\n",
    "                print(f\"Accuracy at {i + 1} iteration = {accuracy_score(y, preds) * 100:.2f}%\")\n",
    "\n",
    "    def pred_prob(self, X):\n",
    "        linear_pred = np.dot(X, self.weights) + self.bias\n",
    "        probability = sigmoid(linear_pred)\n",
    "        return probability\n",
    "\n",
    "    def predict(self, X, threshold):\n",
    "        probabilities = self.pred_prob(X)\n",
    "        return [1 if i > threshold else 0 for i in probabilities]\n",
    "        \n",
    "    def find_best_threshold(self, X, y, thresholds=np.arange(0.0, 1.0, 0.01)):\n",
    "        best_threshold = 0\n",
    "        best_accuracy = 0\n",
    "\n",
    "        thresh_hist = []\n",
    "        acc_hist = []\n",
    "        for threshold in thresholds:\n",
    "            preds = self.predict(X, threshold)\n",
    "            accuracy = accuracy_score(y, preds)\n",
    "\n",
    "            thresh_hist.append(threshold)\n",
    "            acc_hist.append(accuracy)\n",
    "            \n",
    "            if accuracy > best_accuracy:\n",
    "                best_accuracy = accuracy\n",
    "                best_threshold = threshold\n",
    "\n",
    "        print(f\"Best threshold: {best_threshold:.2f}, Best Accuracy: {best_accuracy * 100:.2f}%\")\n",
    "        return best_threshold, best_accuracy, thresh_hist, acc_hist\n"
   ]
  },
  {
   "cell_type": "code",
   "execution_count": 304,
   "id": "dd7007c8-2283-417c-be89-1f66a1da4fa9",
   "metadata": {},
   "outputs": [
    {
     "name": "stdout",
     "output_type": "stream",
     "text": [
      "(569, 30)\n",
      "(569,)\n",
      "(455, 30)\n",
      "(455,)\n",
      "(114, 30)\n",
      "(114,)\n"
     ]
    }
   ],
   "source": [
    "from sklearn.datasets import load_breast_cancer\n",
    "from sklearn.model_selection import train_test_split\n",
    "data = load_breast_cancer()\n",
    "X = data.data\n",
    "y = data.target\n",
    "print(X.shape)\n",
    "print(y.shape)\n",
    "\n",
    "X_train, X_test, y_train, y_test = train_test_split(X, y, test_size=0.2, random_state=42)\n",
    "# 80 % data for training\n",
    "print(X_train.shape)\n",
    "print(y_train.shape)\n",
    "# 20% data for testing\n",
    "print(X_test.shape)\n",
    "print(y_test.shape)"
   ]
  },
  {
   "cell_type": "code",
   "execution_count": 305,
   "id": "d3876534-e984-426b-9baa-66c00267babb",
   "metadata": {},
   "outputs": [
    {
     "name": "stdout",
     "output_type": "stream",
     "text": [
      "Accuracy at 1 iteration = 37.14%\n",
      "Accuracy at 101 iteration = 70.77%\n",
      "Accuracy at 201 iteration = 89.67%\n",
      "Accuracy at 301 iteration = 89.45%\n",
      "Accuracy at 401 iteration = 89.45%\n",
      "Accuracy at 501 iteration = 90.77%\n",
      "Accuracy at 601 iteration = 90.99%\n",
      "Accuracy at 701 iteration = 91.21%\n",
      "Accuracy at 801 iteration = 91.21%\n",
      "Accuracy at 901 iteration = 91.21%\n"
     ]
    },
    {
     "name": "stderr",
     "output_type": "stream",
     "text": [
      "C:\\Users\\HP\\AppData\\Local\\Temp\\ipykernel_13568\\181334427.py:2: RuntimeWarning: overflow encountered in exp\n",
      "  return 1 / (1 + (np.exp(-z)))\n",
      "C:\\Users\\HP\\AppData\\Local\\Temp\\ipykernel_13568\\181334427.py:2: RuntimeWarning: overflow encountered in exp\n",
      "  return 1 / (1 + (np.exp(-z)))\n",
      "C:\\Users\\HP\\AppData\\Local\\Temp\\ipykernel_13568\\181334427.py:2: RuntimeWarning: overflow encountered in exp\n",
      "  return 1 / (1 + (np.exp(-z)))\n",
      "C:\\Users\\HP\\AppData\\Local\\Temp\\ipykernel_13568\\181334427.py:2: RuntimeWarning: overflow encountered in exp\n",
      "  return 1 / (1 + (np.exp(-z)))\n",
      "C:\\Users\\HP\\AppData\\Local\\Temp\\ipykernel_13568\\181334427.py:2: RuntimeWarning: overflow encountered in exp\n",
      "  return 1 / (1 + (np.exp(-z)))\n",
      "C:\\Users\\HP\\AppData\\Local\\Temp\\ipykernel_13568\\181334427.py:2: RuntimeWarning: overflow encountered in exp\n",
      "  return 1 / (1 + (np.exp(-z)))\n",
      "C:\\Users\\HP\\AppData\\Local\\Temp\\ipykernel_13568\\181334427.py:2: RuntimeWarning: overflow encountered in exp\n",
      "  return 1 / (1 + (np.exp(-z)))\n",
      "C:\\Users\\HP\\AppData\\Local\\Temp\\ipykernel_13568\\181334427.py:2: RuntimeWarning: overflow encountered in exp\n",
      "  return 1 / (1 + (np.exp(-z)))\n",
      "C:\\Users\\HP\\AppData\\Local\\Temp\\ipykernel_13568\\181334427.py:2: RuntimeWarning: overflow encountered in exp\n",
      "  return 1 / (1 + (np.exp(-z)))\n",
      "C:\\Users\\HP\\AppData\\Local\\Temp\\ipykernel_13568\\181334427.py:2: RuntimeWarning: overflow encountered in exp\n",
      "  return 1 / (1 + (np.exp(-z)))\n",
      "C:\\Users\\HP\\AppData\\Local\\Temp\\ipykernel_13568\\181334427.py:2: RuntimeWarning: overflow encountered in exp\n",
      "  return 1 / (1 + (np.exp(-z)))\n"
     ]
    },
    {
     "name": "stdout",
     "output_type": "stream",
     "text": [
      "\n",
      "Weights: [ 6.44250676e+00  8.39217344e+00  3.74157045e+01  1.52949557e+01\n",
      "  5.79406608e-02 -2.98171612e-02 -1.18012499e-01 -5.03842110e-02\n",
      "  1.09065742e-01  4.66806826e-02  2.47744766e-02  6.11501058e-01\n",
      " -1.63667277e-01 -1.62645865e+01  3.04811950e-03 -6.88675343e-03\n",
      " -1.33762945e-02 -1.71075500e-03  9.76887828e-03  9.91347301e-04\n",
      "  6.77827209e+00  1.04681101e+01  3.78049116e+01 -2.21461880e+01\n",
      "  7.09011112e-02 -1.29738729e-01 -2.53644441e-01 -5.89231828e-02\n",
      "  1.40195674e-01  4.26844165e-02]\n",
      "\n",
      "Bias: 0.8423309787728327\n"
     ]
    }
   ],
   "source": [
    "my_model = MyLogisticRegression(0.01, 1000)\n",
    "my_model.fit(X_train, y_train)\n",
    "\n",
    "print()\n",
    "print(\"Weights:\", my_model.weights)\n",
    "print()\n",
    "print(\"Bias:\", my_model.bias)"
   ]
  },
  {
   "cell_type": "code",
   "execution_count": null,
   "id": "7a937c52-93b7-431b-a7af-61f7c76a5787",
   "metadata": {},
   "outputs": [],
   "source": [
    "best_threshold, best_accuracy, thresh_hist, acc_hist  = my_model.find_best_threshold(X_test, y_test)"
   ]
  },
  {
   "cell_type": "code",
   "execution_count": 307,
   "id": "03ea5af7-4fd0-4cb9-8a06-1d79e2b32ccb",
   "metadata": {},
   "outputs": [
    {
     "name": "stdout",
     "output_type": "stream",
     "text": [
      "Predictions:\n",
      " [0, 0, 0, 1, 1, 0, 0, 0, 1, 1, 1, 0, 1, 0, 1, 0, 1, 1, 1, 0, 0, 1, 0, 1, 1, 1, 1, 1, 1, 0, 1, 1, 1, 0, 1, 1, 0, 1, 0, 1, 1, 0, 1, 1, 1, 1, 1, 1, 1, 1, 0, 0, 1, 1, 1, 1, 1, 0, 1, 1, 1, 0, 0, 1, 1, 1, 0, 0, 1, 1, 0, 0, 1, 1, 1, 1, 1, 0, 1, 1, 0, 1, 1, 0, 0, 0, 0, 0, 1, 1, 1, 1, 1, 1, 1, 1, 0, 0, 1, 0, 0, 1, 0, 0, 1, 1, 1, 0, 1, 1, 0, 1, 1, 0]\n",
      "Confusion matrix\n",
      " [[40  3]\n",
      " [ 2 69]]\n",
      "Accuracy : 95.61%\n"
     ]
    },
    {
     "name": "stderr",
     "output_type": "stream",
     "text": [
      "C:\\Users\\HP\\AppData\\Local\\Temp\\ipykernel_13568\\181334427.py:2: RuntimeWarning: overflow encountered in exp\n",
      "  return 1 / (1 + (np.exp(-z)))\n"
     ]
    }
   ],
   "source": [
    "preds = my_model.predict(X_test, best_threshold)\n",
    "print(\"Predictions:\\n\", preds)\n",
    "print(\"Confusion matrix\\n\", confusion_matrix(y_test, preds))\n",
    "print(f'Accuracy : {accuracy_score(y_test, preds) * 100:.2f}%')"
   ]
  },
  {
   "cell_type": "code",
   "execution_count": 308,
   "id": "b0243905-39b1-46f1-8c20-a697c7436021",
   "metadata": {},
   "outputs": [
    {
     "data": {
      "image/png": "[encoded data removed]",
      "text/plain": [
       "<Figure size 640x480 with 1 Axes>"
      ]
     },
     "metadata": {},
     "output_type": "display_data"
    }
   ],
   "source": [
    "plt.plot(thresh_hist, acc_hist, lw=3)\n",
    "plt.xlabel('Threshold')\n",
    "plt.ylabel('Accuracy')\n",
    "plt.show()"
   ]
  },
  {
   "cell_type": "code",
   "execution_count": null,
   "id": "93c03f95-2dde-4261-8229-1c85e85e7f3e",
   "metadata": {},
   "outputs": [],
   "source": []
  },
  {
   "cell_type": "markdown",
   "id": "46b1214b-db66-4923-b3d4-dc82838c825b",
   "metadata": {},
   "source": [
    "# Comparison with Scikit-Learn"
   ]
  },
  {
   "cell_type": "code",
   "execution_count": 309,
   "id": "3fa6070d-97eb-46d3-8fa4-960e92433582",
   "metadata": {},
   "outputs": [
    {
     "name": "stdout",
     "output_type": "stream",
     "text": [
      "Predictions:\n",
      " [1 0 0 1 1 0 0 0 1 1 1 0 1 0 1 0 1 1 1 0 1 1 0 1 1 1 1 1 1 0 1 1 1 1 1 1 0\n",
      " 1 0 1 1 0 1 1 1 1 1 1 1 1 0 0 1 1 1 1 1 0 1 1 1 0 0 1 1 1 0 0 1 1 0 0 1 0\n",
      " 1 1 1 1 1 1 0 1 1 0 0 0 0 0 1 1 1 1 1 1 1 1 0 0 1 0 0 1 0 0 1 1 1 0 1 1 0\n",
      " 1 0 0]\n",
      "Accuracy : 95.61\n"
     ]
    },
    {
     "name": "stderr",
     "output_type": "stream",
     "text": [
      "C:\\Users\\HP\\AppData\\Local\\Programs\\Python\\Python312\\Lib\\site-packages\\sklearn\\linear_model\\_logistic.py:469: ConvergenceWarning: lbfgs failed to converge (status=1):\n",
      "STOP: TOTAL NO. of ITERATIONS REACHED LIMIT.\n",
      "\n",
      "Increase the number of iterations (max_iter) or scale the data as shown in:\n",
      "    https://scikit-learn.org/stable/modules/preprocessing.html\n",
      "Please also refer to the documentation for alternative solver options:\n",
      "    https://scikit-learn.org/stable/modules/linear_model.html#logistic-regression\n",
      "  n_iter_i = _check_optimize_result(\n"
     ]
    }
   ],
   "source": [
    "lr_model = LogisticRegression(max_iter=500)\n",
    "lr_model.fit(X_train, y_train)\n",
    "lr_preds = lr_model.predict(X_test)\n",
    "print(\"Predictions:\\n\", lr_preds)\n",
    "print(f'Accuracy : {accuracy_score(y_test, lr_preds) * 100:.2f}')"
   ]
  },
  {
   "cell_type": "code",
   "execution_count": null,
   "id": "ecf94823-faef-4912-b958-196bf3effe90",
   "metadata": {},
   "outputs": [],
   "source": []
  }
 ],
 "metadata": {
  "kernelspec": {
   "display_name": "Python 3 (ipykernel)",
   "language": "python",
   "name": "python3"
  },
  "language_info": {
   "codemirror_mode": {
    "name": "ipython",
    "version": 3
   },
   "file_extension": ".py",
   "mimetype": "text/x-python",
   "name": "python",
   "nbconvert_exporter": "python",
   "pygments_lexer": "ipython3",
   "version": "3.12.4"
  }
 },
 "nbformat": 4,
 "nbformat_minor": 5
}
